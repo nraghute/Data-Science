{
 "cells": [
  {
   "cell_type": "code",
   "execution_count": 1,
   "metadata": {},
   "outputs": [],
   "source": [
    "# Importing packages\n",
    "import pandas as pd\n",
    "import numpy as np"
   ]
  },
  {
   "cell_type": "code",
   "execution_count": 2,
   "metadata": {},
   "outputs": [
    {
     "data": {
      "text/html": [
       "<div>\n",
       "<style scoped>\n",
       "    .dataframe tbody tr th:only-of-type {\n",
       "        vertical-align: middle;\n",
       "    }\n",
       "\n",
       "    .dataframe tbody tr th {\n",
       "        vertical-align: top;\n",
       "    }\n",
       "\n",
       "    .dataframe thead th {\n",
       "        text-align: right;\n",
       "    }\n",
       "</style>\n",
       "<table border=\"1\" class=\"dataframe\">\n",
       "  <thead>\n",
       "    <tr style=\"text-align: right;\">\n",
       "      <th></th>\n",
       "      <th>Order Date</th>\n",
       "      <th>OrderId</th>\n",
       "      <th>Promocode</th>\n",
       "      <th>Order State</th>\n",
       "      <th>Total Amount</th>\n",
       "      <th>Order Cancelled?</th>\n",
       "      <th>Unique ID</th>\n",
       "      <th>NPS</th>\n",
       "    </tr>\n",
       "  </thead>\n",
       "  <tbody>\n",
       "    <tr>\n",
       "      <th>0</th>\n",
       "      <td>Jan 01 2020</td>\n",
       "      <td>OR7395NVA-012ALM647</td>\n",
       "      <td>XYZ20</td>\n",
       "      <td>com.XYZ.order.state.Cancelled</td>\n",
       "      <td>1856.64</td>\n",
       "      <td>True</td>\n",
       "      <td>****714759</td>\n",
       "      <td>7.9</td>\n",
       "    </tr>\n",
       "    <tr>\n",
       "      <th>1</th>\n",
       "      <td>Jan 01 2020</td>\n",
       "      <td>OR0877ITA-016ASN971</td>\n",
       "      <td>XYZ20</td>\n",
       "      <td>com.XYZ.order.state.Closed</td>\n",
       "      <td>843.51</td>\n",
       "      <td>False</td>\n",
       "      <td>****445222</td>\n",
       "      <td>1.5</td>\n",
       "    </tr>\n",
       "    <tr>\n",
       "      <th>2</th>\n",
       "      <td>Jan 01 2020</td>\n",
       "      <td>OR2995FCB-001AQY345</td>\n",
       "      <td>XYZ22</td>\n",
       "      <td>com.XYZ.order.state.Closed</td>\n",
       "      <td>1724.01</td>\n",
       "      <td>False</td>\n",
       "      <td>****184984</td>\n",
       "      <td>9.3</td>\n",
       "    </tr>\n",
       "    <tr>\n",
       "      <th>3</th>\n",
       "      <td>Jan 01 2020</td>\n",
       "      <td>OR5428D-006AME102</td>\n",
       "      <td>XYZ22</td>\n",
       "      <td>com.XYZ.order.state.Closed</td>\n",
       "      <td>1969.70</td>\n",
       "      <td>False</td>\n",
       "      <td>****097817</td>\n",
       "      <td>8.4</td>\n",
       "    </tr>\n",
       "    <tr>\n",
       "      <th>4</th>\n",
       "      <td>Jan 01 2020</td>\n",
       "      <td>OR8457HCB-001ANK775</td>\n",
       "      <td>XYZ22</td>\n",
       "      <td>com.XYZ.order.state.Closed</td>\n",
       "      <td>1991.64</td>\n",
       "      <td>False</td>\n",
       "      <td>****244128</td>\n",
       "      <td>8.3</td>\n",
       "    </tr>\n",
       "  </tbody>\n",
       "</table>\n",
       "</div>"
      ],
      "text/plain": [
       "    Order Date              OrderId Promocode                    Order State  \\\n",
       "0  Jan 01 2020  OR7395NVA-012ALM647     XYZ20  com.XYZ.order.state.Cancelled   \n",
       "1  Jan 01 2020  OR0877ITA-016ASN971     XYZ20     com.XYZ.order.state.Closed   \n",
       "2  Jan 01 2020  OR2995FCB-001AQY345     XYZ22     com.XYZ.order.state.Closed   \n",
       "3  Jan 01 2020    OR5428D-006AME102     XYZ22     com.XYZ.order.state.Closed   \n",
       "4  Jan 01 2020  OR8457HCB-001ANK775     XYZ22     com.XYZ.order.state.Closed   \n",
       "\n",
       "   Total Amount  Order Cancelled?   Unique ID  NPS  \n",
       "0       1856.64              True  ****714759  7.9  \n",
       "1        843.51             False  ****445222  1.5  \n",
       "2       1724.01             False  ****184984  9.3  \n",
       "3       1969.70             False  ****097817  8.4  \n",
       "4       1991.64             False  ****244128  8.3  "
      ]
     },
     "execution_count": 2,
     "metadata": {},
     "output_type": "execute_result"
    }
   ],
   "source": [
    "# Loading data\n",
    "data_original = pd.read_csv(\"case.csv\")\n",
    "data_original.head()"
   ]
  },
  {
   "cell_type": "code",
   "execution_count": 3,
   "metadata": {},
   "outputs": [],
   "source": [
    "# data when purchased is made\n",
    "data = data_original[data_original[\"Order Cancelled?\"] == False]"
   ]
  },
  {
   "cell_type": "code",
   "execution_count": 4,
   "metadata": {},
   "outputs": [],
   "source": [
    "months = [\"Aug\", \"Sep\", \"Oct\", \"Nov\", \"Dec\", \"Jan\"]"
   ]
  },
  {
   "cell_type": "code",
   "execution_count": null,
   "metadata": {},
   "outputs": [],
   "source": []
  },
  {
   "cell_type": "code",
   "execution_count": 5,
   "metadata": {},
   "outputs": [],
   "source": [
    "# Que-1\n",
    "\n",
    "ave_amount = []\n",
    "for m in months:\n",
    "    amount = 0\n",
    "    length = 0\n",
    "    for i in data.index: \n",
    "        if(m == data[\"Order Date\"][i][:3]):\n",
    "            amount = amount + data[\"Total Amount\"][i]\n",
    "            length =  length + 1\n",
    "    ave_amount.append(amount/length)"
   ]
  },
  {
   "cell_type": "code",
   "execution_count": 6,
   "metadata": {},
   "outputs": [
    {
     "name": "stdout",
     "output_type": "stream",
     "text": [
      "Monthly average order value: \n"
     ]
    },
    {
     "data": {
      "text/plain": [
       "[880.7358883248729,\n",
       " 1519.0367519181582,\n",
       " 906.1203478260875,\n",
       " 2326.6023309053085,\n",
       " 2331.2478081813174,\n",
       " 1495.274428380191]"
      ]
     },
     "execution_count": 6,
     "metadata": {},
     "output_type": "execute_result"
    }
   ],
   "source": [
    "print(\"Monthly average order value: \")\n",
    "ave_amount"
   ]
  },
  {
   "cell_type": "code",
   "execution_count": null,
   "metadata": {},
   "outputs": [],
   "source": []
  },
  {
   "cell_type": "code",
   "execution_count": 7,
   "metadata": {
    "scrolled": true
   },
   "outputs": [
    {
     "name": "stdout",
     "output_type": "stream",
     "text": [
      "Top 3 users for month- Aug:\n",
      "741440\n",
      "600811\n",
      "559399\n",
      "\n",
      "Top 3 users for month- Sep:\n",
      "741440\n",
      "600811\n",
      "559399\n",
      "\n",
      "Top 3 users for month- Oct:\n",
      "741440\n",
      "600811\n",
      "559399\n",
      "\n",
      "Top 3 users for month- Nov:\n",
      "741440\n",
      "600811\n",
      "559399\n",
      "\n",
      "Top 3 users for month- Dec:\n",
      "741440\n",
      "600811\n",
      "559399\n",
      "\n",
      "Top 3 users for month- Jan:\n",
      "741440\n",
      "600811\n",
      "559399\n",
      "\n"
     ]
    }
   ],
   "source": [
    "# Que-2\n",
    "\n",
    "for m in months:\n",
    "    df = data[data[\"Order Date\"].str.contains(m)]\n",
    "    dftemp = data.groupby(['Unique ID']).sum()\n",
    "    dftemp.sort_values([\"Total Amount\"], ascending = False, inplace = True)\n",
    "    print(\"Top 3 users for month- {}:\".format(m))\n",
    "    temp = dftemp.index[:3]\n",
    "    for user in temp:\n",
    "        print(user[4:])  # removed star from unique id\n",
    "    print(\"\")"
   ]
  },
  {
   "cell_type": "code",
   "execution_count": null,
   "metadata": {},
   "outputs": [],
   "source": []
  },
  {
   "cell_type": "code",
   "execution_count": 8,
   "metadata": {},
   "outputs": [
    {
     "name": "stdout",
     "output_type": "stream",
     "text": [
      "Revenue loss in the monnth Aug: Rs. 87575.48000000001\n",
      "Revenue loss in the monnth Sep: Rs. 125851.21999999999\n",
      "Revenue loss in the monnth Oct: Rs. 159602.61\n",
      "Revenue loss in the monnth Nov: Rs. 174613.46\n",
      "Revenue loss in the monnth Dec: Rs. 109761.48999999999\n",
      "Revenue loss in the monnth Jan: Rs. 288202.92000000004\n"
     ]
    }
   ],
   "source": [
    "# Que-3\n",
    "# Criteria(considered the orders which were cancelled)\n",
    "\n",
    "dataLoss = data_original[data_original[\"Order Cancelled?\"] == True]\n",
    "for m in months:\n",
    "    df = dataLoss[dataLoss[\"Order Date\"].str.contains(m)]\n",
    "    revenue_loss = df[\"Total Amount\"].sum()\n",
    "    print(\"Revenue loss in the monnth {}: Rs. {}\".format(m, revenue_loss))"
   ]
  },
  {
   "cell_type": "code",
   "execution_count": null,
   "metadata": {},
   "outputs": [],
   "source": []
  },
  {
   "cell_type": "code",
   "execution_count": 9,
   "metadata": {},
   "outputs": [
    {
     "name": "stdout",
     "output_type": "stream",
     "text": [
      "Unique users for month- Aug: 177\n",
      "Unique users for month- Sep: 335\n",
      "Unique users for month- Oct: 489\n",
      "Unique users for month- Nov: 862\n",
      "Unique users for month- Dec: 1609\n",
      "Unique users for month- Jan: 3341\n",
      "Unique users overall: 4041\n"
     ]
    }
   ],
   "source": [
    "# Que-4\n",
    "\n",
    "for m in months:\n",
    "    df = data[data[\"Order Date\"].str.contains(m)] \n",
    "    count = len(pd.unique(df['Unique ID']))\n",
    "    print(\"Unique users for month- {}: {}\".format(m, count))\n",
    "    \n",
    "unq_users = len(pd.unique(data['Unique ID'])) \n",
    "print(\"Unique users overall: {}\".format(unq_users))"
   ]
  },
  {
   "cell_type": "code",
   "execution_count": null,
   "metadata": {},
   "outputs": [],
   "source": []
  },
  {
   "cell_type": "code",
   "execution_count": 10,
   "metadata": {},
   "outputs": [
    {
     "name": "stdout",
     "output_type": "stream",
     "text": [
      "Correlation: -0.024348017687839296\n"
     ]
    }
   ],
   "source": [
    "# Que-5\n",
    "\n",
    "from sklearn import preprocessing\n",
    "le = preprocessing.LabelEncoder()\n",
    "df = data[:]\n",
    "df['Order State'] = le.fit_transform(df['Order State'])\n",
    "correlation = df[\"Order State\"].corr(df[\"NPS\"])\n",
    "print(\"Correlation: {}\".format(correlation)) # weak correlation"
   ]
  },
  {
   "cell_type": "code",
   "execution_count": null,
   "metadata": {},
   "outputs": [],
   "source": []
  },
  {
   "cell_type": "code",
   "execution_count": 11,
   "metadata": {},
   "outputs": [
    {
     "name": "stdout",
     "output_type": "stream",
     "text": [
      "No. of users who made more than 1 purchase in a month: 454\n",
      "No. of users who repeated purchase in subsequent months: 4041\n"
     ]
    }
   ],
   "source": [
    "# Que-6\n",
    "# a)\n",
    "\n",
    "lis = []\n",
    "for m in months:\n",
    "    df = data[data[\"Order Date\"].str.contains(m)] \n",
    "    df1 = df.groupby([\"Unique ID\"]).count()[\"Total Amount\"]\n",
    "    for i in df1.index:\n",
    "        if(df1[i] > 1):\n",
    "            lis.append(i)\n",
    "print(\"No. of users who made more than 1 purchase in a month: {}\".format(len(set(lis))))\n",
    "\n",
    "# b)\n",
    "\n",
    "origdic = {}\n",
    "count = 0\n",
    "\n",
    "for m in months:\n",
    "    df = data[data[\"Order Date\"].str.contains(m)] \n",
    "    dic = {}\n",
    "    for i in df.index:\n",
    "        dic.update({df[\"Unique ID\"][i] : 1})\n",
    "    \n",
    "    for key in dic.keys():\n",
    "        if key in origdic.keys():\n",
    "            origdic[key] = origdic[key] + 1\n",
    "        else:\n",
    "            origdic.update({key: 1})\n",
    "for key in origdic.values():\n",
    "    count = count + 1\n",
    "\n",
    "print(\"No. of users who repeated purchase in subsequent months: {}\".format(count))"
   ]
  },
  {
   "cell_type": "code",
   "execution_count": null,
   "metadata": {},
   "outputs": [],
   "source": []
  }
 ],
 "metadata": {
  "kernelspec": {
   "display_name": "Python 3",
   "language": "python",
   "name": "python3"
  },
  "language_info": {
   "codemirror_mode": {
    "name": "ipython",
    "version": 3
   },
   "file_extension": ".py",
   "mimetype": "text/x-python",
   "name": "python",
   "nbconvert_exporter": "python",
   "pygments_lexer": "ipython3",
   "version": "3.7.7"
  }
 },
 "nbformat": 4,
 "nbformat_minor": 4
}
