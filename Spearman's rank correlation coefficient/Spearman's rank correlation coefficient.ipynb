{
 "cells": [
  {
   "cell_type": "markdown",
   "metadata": {},
   "source": [
    "# Spearman's correlation Coefficients( SNAKCS data)\n",
    "### ProjectId: 04, GroupId: 64\n",
    "### Nikil Raghute(16AG36015)"
   ]
  },
  {
   "cell_type": "code",
   "execution_count": 1,
   "metadata": {},
   "outputs": [],
   "source": [
    "# importing packages\n",
    "import numpy as np\n",
    "import pandas as pd\n",
    "import matplotlib.pyplot as plt\n",
    "%matplotlib inline"
   ]
  },
  {
   "cell_type": "code",
   "execution_count": 2,
   "metadata": {},
   "outputs": [],
   "source": [
    "import os\n",
    "os.chdir('C:\\\\Users\\\\Nikhil\\\\Desktop')"
   ]
  },
  {
   "cell_type": "code",
   "execution_count": 3,
   "metadata": {},
   "outputs": [],
   "source": [
    "#Loading .xls file into DataFrame\n",
    "data = pd.read_excel(\"./SNACKS.xls\") \n",
    "#data = pd.DataFrame(data)"
   ]
  },
  {
   "cell_type": "code",
   "execution_count": 4,
   "metadata": {},
   "outputs": [],
   "source": [
    "data.to_csv(\"SNACKS.csv\", index = False)"
   ]
  },
  {
   "cell_type": "code",
   "execution_count": 5,
   "metadata": {},
   "outputs": [
    {
     "data": {
      "text/html": [
       "<div>\n",
       "<style scoped>\n",
       "    .dataframe tbody tr th:only-of-type {\n",
       "        vertical-align: middle;\n",
       "    }\n",
       "\n",
       "    .dataframe tbody tr th {\n",
       "        vertical-align: top;\n",
       "    }\n",
       "\n",
       "    .dataframe thead th {\n",
       "        text-align: right;\n",
       "    }\n",
       "</style>\n",
       "<table border=\"1\" class=\"dataframe\">\n",
       "  <thead>\n",
       "    <tr style=\"text-align: right;\">\n",
       "      <th></th>\n",
       "      <th>Liking scores</th>\n",
       "      <th>Saltiness</th>\n",
       "      <th>Sweetness</th>\n",
       "      <th>Acidity</th>\n",
       "      <th>Crunchiness</th>\n",
       "    </tr>\n",
       "  </thead>\n",
       "  <tbody>\n",
       "    <tr>\n",
       "      <th>0</th>\n",
       "      <td>1</td>\n",
       "      <td>3</td>\n",
       "      <td>3</td>\n",
       "      <td>3</td>\n",
       "      <td>3</td>\n",
       "    </tr>\n",
       "    <tr>\n",
       "      <th>1</th>\n",
       "      <td>1</td>\n",
       "      <td>1</td>\n",
       "      <td>2</td>\n",
       "      <td>3</td>\n",
       "      <td>1</td>\n",
       "    </tr>\n",
       "    <tr>\n",
       "      <th>2</th>\n",
       "      <td>1</td>\n",
       "      <td>2</td>\n",
       "      <td>2</td>\n",
       "      <td>5</td>\n",
       "      <td>1</td>\n",
       "    </tr>\n",
       "    <tr>\n",
       "      <th>3</th>\n",
       "      <td>1</td>\n",
       "      <td>1</td>\n",
       "      <td>4</td>\n",
       "      <td>3</td>\n",
       "      <td>1</td>\n",
       "    </tr>\n",
       "    <tr>\n",
       "      <th>4</th>\n",
       "      <td>2</td>\n",
       "      <td>3</td>\n",
       "      <td>3</td>\n",
       "      <td>2</td>\n",
       "      <td>2</td>\n",
       "    </tr>\n",
       "  </tbody>\n",
       "</table>\n",
       "</div>"
      ],
      "text/plain": [
       "   Liking scores  Saltiness  Sweetness  Acidity  Crunchiness\n",
       "0              1          3          3        3            3\n",
       "1              1          1          2        3            1\n",
       "2              1          2          2        5            1\n",
       "3              1          1          4        3            1\n",
       "4              2          3          3        2            2"
      ]
     },
     "execution_count": 5,
     "metadata": {},
     "output_type": "execute_result"
    }
   ],
   "source": [
    "# Printing first 5 rows from the data\n",
    "data.head()"
   ]
  },
  {
   "cell_type": "code",
   "execution_count": 6,
   "metadata": {},
   "outputs": [],
   "source": [
    "# Plotting scatter plots of different features vs target variable"
   ]
  },
  {
   "cell_type": "code",
   "execution_count": 7,
   "metadata": {
    "scrolled": true
   },
   "outputs": [
    {
     "data": {
      "text/plain": [
       "Text(0, 0.5, 'Liking scores')"
      ]
     },
     "execution_count": 7,
     "metadata": {},
     "output_type": "execute_result"
    },
    {
     "data": {
      "image/png": "[encoded data removed]",
      "text/plain": [
       "<Figure size 432x288 with 1 Axes>"
      ]
     },
     "metadata": {
      "needs_background": "light"
     },
     "output_type": "display_data"
    }
   ],
   "source": [
    "plt.scatter(data[\"Saltiness\"], data[\"Liking scores\"])\n",
    "plt.xlabel(\"Saltiness\")\n",
    "plt.ylabel(\"Liking scores\")"
   ]
  },
  {
   "cell_type": "code",
   "execution_count": null,
   "metadata": {
    "scrolled": true
   },
   "outputs": [],
   "source": []
  },
  {
   "cell_type": "code",
   "execution_count": 8,
   "metadata": {},
   "outputs": [
    {
     "data": {
      "text/plain": [
       "<matplotlib.collections.PathCollection at 0x12f8d17dcc8>"
      ]
     },
     "execution_count": 8,
     "metadata": {},
     "output_type": "execute_result"
    },
    {
     "data": {
      "image/png": "[encoded data removed]",
      "text/plain": [
       "<Figure size 432x288 with 1 Axes>"
      ]
     },
     "metadata": {
      "needs_background": "light"
     },
     "output_type": "display_data"
    }
   ],
   "source": [
    "plt.scatter(data[\"Sweetness\"], data[\"Liking scores\"])"
   ]
  },
  {
   "cell_type": "code",
   "execution_count": 9,
   "metadata": {},
   "outputs": [
    {
     "data": {
      "text/plain": [
       "<matplotlib.collections.PathCollection at 0x12f8d240fc8>"
      ]
     },
     "execution_count": 9,
     "metadata": {},
     "output_type": "execute_result"
    },
    {
     "data": {
      "image/png": "[encoded data removed]",
      "text/plain": [
       "<Figure size 432x288 with 1 Axes>"
      ]
     },
     "metadata": {
      "needs_background": "light"
     },
     "output_type": "display_data"
    }
   ],
   "source": [
    "plt.scatter(data[\"Acidity\"], data[\"Liking scores\"])"
   ]
  },
  {
   "cell_type": "code",
   "execution_count": 10,
   "metadata": {},
   "outputs": [
    {
     "data": {
      "text/plain": [
       "<matplotlib.collections.PathCollection at 0x12f8d210308>"
      ]
     },
     "execution_count": 10,
     "metadata": {},
     "output_type": "execute_result"
    },
    {
     "data": {
      "image/png": "[encoded data removed]",
      "text/plain": [
       "<Figure size 432x288 with 1 Axes>"
      ]
     },
     "metadata": {
      "needs_background": "light"
     },
     "output_type": "display_data"
    }
   ],
   "source": [
    "plt.scatter(data[\"Crunchiness\"], data[\"Liking scores\"])"
   ]
  },
  {
   "cell_type": "code",
   "execution_count": 11,
   "metadata": {},
   "outputs": [],
   "source": [
    "# As the data is scattered in very complex way, it's difficult to find any correlation between features and target variable"
   ]
  },
  {
   "cell_type": "code",
   "execution_count": null,
   "metadata": {},
   "outputs": [],
   "source": []
  },
  {
   "cell_type": "code",
   "execution_count": 12,
   "metadata": {},
   "outputs": [],
   "source": [
    "# We can calculate Spearman's correlation coefficients among all possible pairs of attributes\n",
    "ans = [[0,0,0,0,0],[0,0,0,0,0],[0,0,0,0,0],[0,0,0,0,0],[0,0,0,0,0]]\n",
    "lis = [\"Liking scores\", \"Saltiness\", \"Sweetness\", \"Acidity\", \"Crunchiness\"]\n",
    "i = 0\n",
    "j = 0\n",
    "\n",
    "def func(lis):\n",
    "    i = 0\n",
    "    for x in lis:\n",
    "        j = 0\n",
    "        for y in lis:\n",
    "            d1 = pd.DataFrame()\n",
    "            d1[x] = data[x]\n",
    "            d1[y] = data[y]\n",
    "            d1[\"r1\"] = d1[x].rank(ascending = False)\n",
    "            d1[\"r2\"] = d1[y].rank(ascending = False)\n",
    "            d1[\"diff\"] = d1[\"r1\"] - d1[\"r2\"]\n",
    "            d1[\"diff2\"] = d1[\"diff\"]**2\n",
    "            d2s = d1[\"diff2\"].sum()\n",
    "            n = 100\n",
    "            rs = 1 - ((6*d2s)/(n*(n**2-1)))\n",
    "            ans[i][j] = rs\n",
    "            j = j + 1\n",
    "        i = i + 1\n",
    "    return ans"
   ]
  },
  {
   "cell_type": "code",
   "execution_count": 13,
   "metadata": {},
   "outputs": [
    {
     "data": {
      "text/html": [
       "<div>\n",
       "<style scoped>\n",
       "    .dataframe tbody tr th:only-of-type {\n",
       "        vertical-align: middle;\n",
       "    }\n",
       "\n",
       "    .dataframe tbody tr th {\n",
       "        vertical-align: top;\n",
       "    }\n",
       "\n",
       "    .dataframe thead th {\n",
       "        text-align: right;\n",
       "    }\n",
       "</style>\n",
       "<table border=\"1\" class=\"dataframe\">\n",
       "  <thead>\n",
       "    <tr style=\"text-align: right;\">\n",
       "      <th></th>\n",
       "      <th>Liking scores</th>\n",
       "      <th>Saltiness</th>\n",
       "      <th>Sweetness</th>\n",
       "      <th>Acidity</th>\n",
       "      <th>Crunchiness</th>\n",
       "    </tr>\n",
       "  </thead>\n",
       "  <tbody>\n",
       "    <tr>\n",
       "      <th>Liking scores</th>\n",
       "      <td>1.000000</td>\n",
       "      <td>0.319130</td>\n",
       "      <td>0.101599</td>\n",
       "      <td>0.031476</td>\n",
       "      <td>0.509529</td>\n",
       "    </tr>\n",
       "    <tr>\n",
       "      <th>Saltiness</th>\n",
       "      <td>0.319130</td>\n",
       "      <td>1.000000</td>\n",
       "      <td>-0.006757</td>\n",
       "      <td>0.022190</td>\n",
       "      <td>0.211491</td>\n",
       "    </tr>\n",
       "    <tr>\n",
       "      <th>Sweetness</th>\n",
       "      <td>0.101599</td>\n",
       "      <td>-0.006757</td>\n",
       "      <td>1.000000</td>\n",
       "      <td>-0.098605</td>\n",
       "      <td>0.049244</td>\n",
       "    </tr>\n",
       "    <tr>\n",
       "      <th>Acidity</th>\n",
       "      <td>0.031476</td>\n",
       "      <td>0.022190</td>\n",
       "      <td>-0.098605</td>\n",
       "      <td>1.000000</td>\n",
       "      <td>0.250573</td>\n",
       "    </tr>\n",
       "    <tr>\n",
       "      <th>Crunchiness</th>\n",
       "      <td>0.509529</td>\n",
       "      <td>0.211491</td>\n",
       "      <td>0.049244</td>\n",
       "      <td>0.250573</td>\n",
       "      <td>1.000000</td>\n",
       "    </tr>\n",
       "  </tbody>\n",
       "</table>\n",
       "</div>"
      ],
      "text/plain": [
       "               Liking scores  Saltiness  Sweetness   Acidity  Crunchiness\n",
       "Liking scores       1.000000   0.319130   0.101599  0.031476     0.509529\n",
       "Saltiness           0.319130   1.000000  -0.006757  0.022190     0.211491\n",
       "Sweetness           0.101599  -0.006757   1.000000 -0.098605     0.049244\n",
       "Acidity             0.031476   0.022190  -0.098605  1.000000     0.250573\n",
       "Crunchiness         0.509529   0.211491   0.049244  0.250573     1.000000"
      ]
     },
     "execution_count": 13,
     "metadata": {},
     "output_type": "execute_result"
    }
   ],
   "source": [
    "mat = func(lis)\n",
    "mat = pd.DataFrame(mat, index = lis, columns = lis)\n",
    "mat"
   ]
  },
  {
   "cell_type": "code",
   "execution_count": 14,
   "metadata": {
    "scrolled": true
   },
   "outputs": [
    {
     "data": {
      "text/html": [
       "<div>\n",
       "<style scoped>\n",
       "    .dataframe tbody tr th:only-of-type {\n",
       "        vertical-align: middle;\n",
       "    }\n",
       "\n",
       "    .dataframe tbody tr th {\n",
       "        vertical-align: top;\n",
       "    }\n",
       "\n",
       "    .dataframe thead th {\n",
       "        text-align: right;\n",
       "    }\n",
       "</style>\n",
       "<table border=\"1\" class=\"dataframe\">\n",
       "  <thead>\n",
       "    <tr style=\"text-align: right;\">\n",
       "      <th></th>\n",
       "      <th>Liking scores</th>\n",
       "      <th>Saltiness</th>\n",
       "      <th>Sweetness</th>\n",
       "      <th>Acidity</th>\n",
       "      <th>Crunchiness</th>\n",
       "    </tr>\n",
       "  </thead>\n",
       "  <tbody>\n",
       "    <tr>\n",
       "      <th>Liking scores</th>\n",
       "      <td>1.000000</td>\n",
       "      <td>0.280465</td>\n",
       "      <td>0.031249</td>\n",
       "      <td>-0.063211</td>\n",
       "      <td>0.438298</td>\n",
       "    </tr>\n",
       "    <tr>\n",
       "      <th>Saltiness</th>\n",
       "      <td>0.280465</td>\n",
       "      <td>1.000000</td>\n",
       "      <td>-0.124927</td>\n",
       "      <td>-0.100368</td>\n",
       "      <td>0.065241</td>\n",
       "    </tr>\n",
       "    <tr>\n",
       "      <th>Sweetness</th>\n",
       "      <td>0.031249</td>\n",
       "      <td>-0.124927</td>\n",
       "      <td>1.000000</td>\n",
       "      <td>-0.237212</td>\n",
       "      <td>-0.068730</td>\n",
       "    </tr>\n",
       "    <tr>\n",
       "      <th>Acidity</th>\n",
       "      <td>-0.063211</td>\n",
       "      <td>-0.100368</td>\n",
       "      <td>-0.237212</td>\n",
       "      <td>1.000000</td>\n",
       "      <td>0.132331</td>\n",
       "    </tr>\n",
       "    <tr>\n",
       "      <th>Crunchiness</th>\n",
       "      <td>0.438298</td>\n",
       "      <td>0.065241</td>\n",
       "      <td>-0.068730</td>\n",
       "      <td>0.132331</td>\n",
       "      <td>1.000000</td>\n",
       "    </tr>\n",
       "  </tbody>\n",
       "</table>\n",
       "</div>"
      ],
      "text/plain": [
       "               Liking scores  Saltiness  Sweetness   Acidity  Crunchiness\n",
       "Liking scores       1.000000   0.280465   0.031249 -0.063211     0.438298\n",
       "Saltiness           0.280465   1.000000  -0.124927 -0.100368     0.065241\n",
       "Sweetness           0.031249  -0.124927   1.000000 -0.237212    -0.068730\n",
       "Acidity            -0.063211  -0.100368  -0.237212  1.000000     0.132331\n",
       "Crunchiness         0.438298   0.065241  -0.068730  0.132331     1.000000"
      ]
     },
     "execution_count": 14,
     "metadata": {},
     "output_type": "execute_result"
    }
   ],
   "source": [
    "# Pearson's correlation coefficient matrix\n",
    "data.corr()"
   ]
  },
  {
   "cell_type": "code",
   "execution_count": 15,
   "metadata": {},
   "outputs": [
    {
     "data": {
      "image/png": "[encoded data removed]",
      "text/plain": [
       "<Figure size 288x288 with 2 Axes>"
      ]
     },
     "metadata": {
      "needs_background": "light"
     },
     "output_type": "display_data"
    }
   ],
   "source": [
    "plt.matshow(data.corr())\n",
    "plt.colorbar()\n",
    "plt.show()"
   ]
  },
  {
   "cell_type": "code",
   "execution_count": 16,
   "metadata": {
    "scrolled": true
   },
   "outputs": [
    {
     "data": {
      "text/plain": [
       "array([[ 1.        ,  0.27220415,  0.02989934, -0.03451333,  0.46590771],\n",
       "       [ 0.27220415,  1.        , -0.12160131, -0.07715498,  0.11290395],\n",
       "       [ 0.02989934, -0.12160131,  1.        , -0.22275703, -0.08096516],\n",
       "       [-0.03451333, -0.07715498, -0.22275703,  1.        ,  0.15770467],\n",
       "       [ 0.46590771,  0.11290395, -0.08096516,  0.15770467,  1.        ]])"
      ]
     },
     "execution_count": 16,
     "metadata": {},
     "output_type": "execute_result"
    }
   ],
   "source": [
    "# Spearman's correlation matrix using spearmanr()\n",
    "from scipy.stats import spearmanr\n",
    "spearmanr(data)[0]"
   ]
  },
  {
   "cell_type": "code",
   "execution_count": 17,
   "metadata": {},
   "outputs": [],
   "source": [
    "# But we've to calculate rs only for features-target pairs, we can use it from the \"mat\",\n",
    "# but for simplification and details, we can calculate it again one by one"
   ]
  },
  {
   "cell_type": "code",
   "execution_count": 18,
   "metadata": {},
   "outputs": [],
   "source": [
    "# list of all four Spearman's correlation coefficients for different pairs in the data\n",
    "Rs = []      # empty list is declared"
   ]
  },
  {
   "cell_type": "code",
   "execution_count": 19,
   "metadata": {},
   "outputs": [
    {
     "data": {
      "text/plain": [
       "(0.28046458735062796, 0.0047082559744388314)"
      ]
     },
     "execution_count": 19,
     "metadata": {},
     "output_type": "execute_result"
    }
   ],
   "source": [
    "from scipy.stats import pearsonr\n",
    "pearsonr(data[\"Saltiness\"], data[\"Liking scores\"])"
   ]
  },
  {
   "cell_type": "markdown",
   "metadata": {},
   "source": [
    "## Spearman's correlation Coefficient for Saltiness- Liking scores"
   ]
  },
  {
   "cell_type": "code",
   "execution_count": 20,
   "metadata": {},
   "outputs": [],
   "source": [
    "# Calculating Spearman's correlation coefficient(rs) for Saltiness- liking scores pair\n",
    "saltCorr = pd.DataFrame()\n",
    "saltCorr[\"Saltiness\"] = data[\"Saltiness\"]\n",
    "saltCorr[\"Salt r\"] = saltCorr[\"Saltiness\"].rank(ascending = False)   # rank for \"Saltiness\" attribute\n",
    "saltCorr[\"Liking scores\"] = data[\"Liking scores\"]\n",
    "saltCorr[\"Liking scores r\"] = saltCorr[\"Liking scores\"].rank(ascending = False)   # rank for \"Liking scores\" attribute\n",
    "saltCorr[\"diff\"] = saltCorr[\"Salt r\"] - saltCorr[\"Liking scores r\"]     # difference between their ranks\n",
    "saltCorr[\"diff2\"] = saltCorr[\"diff\"]**2      # Square of difference between ranks of two attributes"
   ]
  },
  {
   "cell_type": "code",
   "execution_count": 21,
   "metadata": {},
   "outputs": [
    {
     "data": {
      "text/html": [
       "<div>\n",
       "<style scoped>\n",
       "    .dataframe tbody tr th:only-of-type {\n",
       "        vertical-align: middle;\n",
       "    }\n",
       "\n",
       "    .dataframe tbody tr th {\n",
       "        vertical-align: top;\n",
       "    }\n",
       "\n",
       "    .dataframe thead th {\n",
       "        text-align: right;\n",
       "    }\n",
       "</style>\n",
       "<table border=\"1\" class=\"dataframe\">\n",
       "  <thead>\n",
       "    <tr style=\"text-align: right;\">\n",
       "      <th></th>\n",
       "      <th>Saltiness</th>\n",
       "      <th>Salt r</th>\n",
       "      <th>Liking scores</th>\n",
       "      <th>Liking scores r</th>\n",
       "      <th>diff</th>\n",
       "      <th>diff2</th>\n",
       "    </tr>\n",
       "  </thead>\n",
       "  <tbody>\n",
       "    <tr>\n",
       "      <th>0</th>\n",
       "      <td>3</td>\n",
       "      <td>46.0</td>\n",
       "      <td>1</td>\n",
       "      <td>98.5</td>\n",
       "      <td>-52.5</td>\n",
       "      <td>2756.25</td>\n",
       "    </tr>\n",
       "    <tr>\n",
       "      <th>1</th>\n",
       "      <td>1</td>\n",
       "      <td>96.5</td>\n",
       "      <td>1</td>\n",
       "      <td>98.5</td>\n",
       "      <td>-2.0</td>\n",
       "      <td>4.00</td>\n",
       "    </tr>\n",
       "    <tr>\n",
       "      <th>2</th>\n",
       "      <td>2</td>\n",
       "      <td>79.5</td>\n",
       "      <td>1</td>\n",
       "      <td>98.5</td>\n",
       "      <td>-19.0</td>\n",
       "      <td>361.00</td>\n",
       "    </tr>\n",
       "    <tr>\n",
       "      <th>3</th>\n",
       "      <td>1</td>\n",
       "      <td>96.5</td>\n",
       "      <td>1</td>\n",
       "      <td>98.5</td>\n",
       "      <td>-2.0</td>\n",
       "      <td>4.00</td>\n",
       "    </tr>\n",
       "    <tr>\n",
       "      <th>4</th>\n",
       "      <td>3</td>\n",
       "      <td>46.0</td>\n",
       "      <td>2</td>\n",
       "      <td>95.5</td>\n",
       "      <td>-49.5</td>\n",
       "      <td>2450.25</td>\n",
       "    </tr>\n",
       "  </tbody>\n",
       "</table>\n",
       "</div>"
      ],
      "text/plain": [
       "   Saltiness  Salt r  Liking scores  Liking scores r  diff    diff2\n",
       "0          3    46.0              1             98.5 -52.5  2756.25\n",
       "1          1    96.5              1             98.5  -2.0     4.00\n",
       "2          2    79.5              1             98.5 -19.0   361.00\n",
       "3          1    96.5              1             98.5  -2.0     4.00\n",
       "4          3    46.0              2             95.5 -49.5  2450.25"
      ]
     },
     "execution_count": 21,
     "metadata": {},
     "output_type": "execute_result"
    }
   ],
   "source": [
    "# Printing first 5 rows of the table used for calculating rs\n",
    "saltCorr.head()"
   ]
  },
  {
   "cell_type": "code",
   "execution_count": 22,
   "metadata": {},
   "outputs": [
    {
     "name": "stdout",
     "output_type": "stream",
     "text": [
      "113467.0\n"
     ]
    }
   ],
   "source": [
    "# d2 is the sum of square of difference between ranks of two attributes\n",
    "d2 = saltCorr[\"diff2\"].sum()\n",
    "print(d2)"
   ]
  },
  {
   "cell_type": "code",
   "execution_count": 23,
   "metadata": {},
   "outputs": [
    {
     "name": "stdout",
     "output_type": "stream",
     "text": [
      "100\n"
     ]
    }
   ],
   "source": [
    "# n = no. of objects(rows)\n",
    "n = len(saltCorr.index)\n",
    "print(n)"
   ]
  },
  {
   "cell_type": "code",
   "execution_count": 24,
   "metadata": {},
   "outputs": [
    {
     "name": "stdout",
     "output_type": "stream",
     "text": [
      "0.3191299129912991\n"
     ]
    }
   ],
   "source": [
    "# By using formula rs = 1-((6*∑di^2)/(n^2(n-1)))\n",
    "rs = 1 - ((6*d2)/(n**3 - n))\n",
    "print(rs)"
   ]
  },
  {
   "cell_type": "code",
   "execution_count": 25,
   "metadata": {},
   "outputs": [],
   "source": [
    "Rs.append(rs)    # rs for the Saltiness- Liking scores pair is appended in Rs list  "
   ]
  },
  {
   "cell_type": "code",
   "execution_count": null,
   "metadata": {},
   "outputs": [],
   "source": []
  },
  {
   "cell_type": "markdown",
   "metadata": {},
   "source": [
    "## Spearman's correlation Coefficient for Sweetness- Liking scores"
   ]
  },
  {
   "cell_type": "code",
   "execution_count": 26,
   "metadata": {},
   "outputs": [],
   "source": [
    "# Similarly for all other pairs of attributes\n",
    "\n",
    "# For Sweetness- Liking scores\n",
    "sweetCorr = pd.DataFrame()\n",
    "sweetCorr[\"Sweetness\"] = data[\"Sweetness\"]\n",
    "sweetCorr[\"Sweet r\"] = sweetCorr[\"Sweetness\"].rank(ascending = False)\n",
    "sweetCorr[\"Liking scores\"] = data[\"Liking scores\"]\n",
    "sweetCorr[\"Liking scores r\"] = sweetCorr[\"Liking scores\"].rank(ascending = False)\n",
    "sweetCorr[\"diff\"] = sweetCorr[\"Sweet r\"] - sweetCorr[\"Liking scores r\"]  \n",
    "sweetCorr[\"diff2\"] = sweetCorr[\"diff\"]**2"
   ]
  },
  {
   "cell_type": "code",
   "execution_count": 27,
   "metadata": {},
   "outputs": [
    {
     "name": "stdout",
     "output_type": "stream",
     "text": [
      "   Sweetness  Sweet r  Liking scores  Liking scores r  diff    diff2\n",
      "0          3     56.5              1             98.5 -42.0  1764.00\n",
      "1          2     86.0              1             98.5 -12.5   156.25\n",
      "2          2     86.0              1             98.5 -12.5   156.25\n",
      "3          4     21.0              1             98.5 -77.5  6006.25\n",
      "4          3     56.5              2             95.5 -39.0  1521.00\n"
     ]
    }
   ],
   "source": [
    "print(sweetCorr.head())"
   ]
  },
  {
   "cell_type": "code",
   "execution_count": 28,
   "metadata": {},
   "outputs": [
    {
     "name": "stdout",
     "output_type": "stream",
     "text": [
      "149718.5\n"
     ]
    }
   ],
   "source": [
    "d2 = sweetCorr[\"diff2\"].sum()\n",
    "print(d2)"
   ]
  },
  {
   "cell_type": "code",
   "execution_count": 29,
   "metadata": {},
   "outputs": [
    {
     "name": "stdout",
     "output_type": "stream",
     "text": [
      "100\n"
     ]
    }
   ],
   "source": [
    "n = len(sweetCorr.index)\n",
    "print(n)"
   ]
  },
  {
   "cell_type": "code",
   "execution_count": 30,
   "metadata": {},
   "outputs": [
    {
     "name": "stdout",
     "output_type": "stream",
     "text": [
      "0.10159915991599155\n"
     ]
    }
   ],
   "source": [
    "rs = 1 - ((6*d2)/(n**3 - n))\n",
    "print(rs)"
   ]
  },
  {
   "cell_type": "code",
   "execution_count": 31,
   "metadata": {},
   "outputs": [],
   "source": [
    "Rs.append(rs)"
   ]
  },
  {
   "cell_type": "code",
   "execution_count": null,
   "metadata": {},
   "outputs": [],
   "source": []
  },
  {
   "cell_type": "markdown",
   "metadata": {},
   "source": [
    "## Spearman's correlation Coefficient for Acidity- Liking scores"
   ]
  },
  {
   "cell_type": "code",
   "execution_count": 32,
   "metadata": {},
   "outputs": [],
   "source": [
    "# For  Acidity- Liking scores  \n",
    "acidCorr = pd.DataFrame()\n",
    "acidCorr[\"Acidity\"] = data[\"Acidity\"]\n",
    "acidCorr[\"Acid r\"] = acidCorr[\"Acidity\"].rank(ascending = False)\n",
    "acidCorr[\"Liking scores\"] = data[\"Liking scores\"]\n",
    "acidCorr[\"Liking scores r\"] = acidCorr[\"Liking scores\"].rank(ascending = False)\n",
    "acidCorr[\"diff\"] = acidCorr[\"Acid r\"] - acidCorr[\"Liking scores r\"]  \n",
    "acidCorr[\"diff2\"] = acidCorr[\"diff\"]**2"
   ]
  },
  {
   "cell_type": "code",
   "execution_count": 33,
   "metadata": {},
   "outputs": [
    {
     "name": "stdout",
     "output_type": "stream",
     "text": [
      "   Acidity  Acid r  Liking scores  Liking scores r  diff    diff2\n",
      "0        3    53.0              1             98.5 -45.5  2070.25\n",
      "1        3    53.0              1             98.5 -45.5  2070.25\n",
      "2        5     5.0              1             98.5 -93.5  8742.25\n",
      "3        3    53.0              1             98.5 -45.5  2070.25\n",
      "4        2    85.5              2             95.5 -10.0   100.00\n"
     ]
    }
   ],
   "source": [
    "print(acidCorr.head())"
   ]
  },
  {
   "cell_type": "code",
   "execution_count": 34,
   "metadata": {},
   "outputs": [
    {
     "name": "stdout",
     "output_type": "stream",
     "text": [
      "161404.5\n"
     ]
    }
   ],
   "source": [
    "d2 = acidCorr[\"diff2\"].sum()\n",
    "print(d2)"
   ]
  },
  {
   "cell_type": "code",
   "execution_count": 35,
   "metadata": {},
   "outputs": [
    {
     "name": "stdout",
     "output_type": "stream",
     "text": [
      "100\n"
     ]
    }
   ],
   "source": [
    "n = len(acidCorr.index)\n",
    "print(n)"
   ]
  },
  {
   "cell_type": "code",
   "execution_count": 36,
   "metadata": {},
   "outputs": [
    {
     "name": "stdout",
     "output_type": "stream",
     "text": [
      "0.031476147614761474\n"
     ]
    }
   ],
   "source": [
    "rs = 1 - ((6*d2)/(n**3 - n))\n",
    "print(rs)"
   ]
  },
  {
   "cell_type": "code",
   "execution_count": 37,
   "metadata": {},
   "outputs": [],
   "source": [
    "Rs.append(rs)"
   ]
  },
  {
   "cell_type": "code",
   "execution_count": null,
   "metadata": {},
   "outputs": [],
   "source": []
  },
  {
   "cell_type": "markdown",
   "metadata": {},
   "source": [
    "## Spearman's correlation Coefficient for Crunchiness- Liking scores"
   ]
  },
  {
   "cell_type": "code",
   "execution_count": 38,
   "metadata": {},
   "outputs": [],
   "source": [
    "# For Crunchiness- liking scores\n",
    "crunchCorr = pd.DataFrame()\n",
    "crunchCorr[\"Crunchiness\"] = data[\"Crunchiness\"]\n",
    "crunchCorr[\"Crunch r\"] = crunchCorr[\"Crunchiness\"].rank(ascending = False)\n",
    "crunchCorr[\"Liking scores\"] = data[\"Liking scores\"]\n",
    "crunchCorr[\"Liking scores r\"] = crunchCorr[\"Liking scores\"].rank(ascending = False)\n",
    "crunchCorr[\"diff\"] = crunchCorr[\"Crunch r\"] - crunchCorr[\"Liking scores r\"]  \n",
    "crunchCorr[\"diff2\"] = crunchCorr[\"diff\"]**2"
   ]
  },
  {
   "cell_type": "code",
   "execution_count": 39,
   "metadata": {},
   "outputs": [
    {
     "name": "stdout",
     "output_type": "stream",
     "text": [
      "   Crunchiness  Crunch r  Liking scores  Liking scores r  diff    diff2\n",
      "0            3      37.0              1             98.5 -61.5  3782.25\n",
      "1            1      96.5              1             98.5  -2.0     4.00\n",
      "2            1      96.5              1             98.5  -2.0     4.00\n",
      "3            1      96.5              1             98.5  -2.0     4.00\n",
      "4            2      76.0              2             95.5 -19.5   380.25\n"
     ]
    }
   ],
   "source": [
    "print(crunchCorr.head())"
   ]
  },
  {
   "cell_type": "code",
   "execution_count": 40,
   "metadata": {},
   "outputs": [
    {
     "name": "stdout",
     "output_type": "stream",
     "text": [
      "81737.0\n"
     ]
    }
   ],
   "source": [
    "d2 = crunchCorr[\"diff2\"].sum()\n",
    "print(d2)"
   ]
  },
  {
   "cell_type": "code",
   "execution_count": 41,
   "metadata": {},
   "outputs": [
    {
     "name": "stdout",
     "output_type": "stream",
     "text": [
      "100\n"
     ]
    }
   ],
   "source": [
    "n = len(crunchCorr.index)\n",
    "print(n)"
   ]
  },
  {
   "cell_type": "code",
   "execution_count": 42,
   "metadata": {},
   "outputs": [
    {
     "name": "stdout",
     "output_type": "stream",
     "text": [
      "0.5095289528952895\n"
     ]
    }
   ],
   "source": [
    "rs = 1 - ((6*d2)/(n**3 - n))\n",
    "print(rs)"
   ]
  },
  {
   "cell_type": "markdown",
   "metadata": {},
   "source": [
    "## Calculated rs"
   ]
  },
  {
   "cell_type": "code",
   "execution_count": 43,
   "metadata": {},
   "outputs": [
    {
     "name": "stdout",
     "output_type": "stream",
     "text": [
      "[0.3191299129912991, 0.10159915991599155, 0.031476147614761474, 0.5095289528952895]\n"
     ]
    }
   ],
   "source": [
    "# Printing list of all required four rs\n",
    "Rs.append(rs)\n",
    "print(Rs)"
   ]
  },
  {
   "cell_type": "code",
   "execution_count": null,
   "metadata": {},
   "outputs": [],
   "source": []
  },
  {
   "cell_type": "markdown",
   "metadata": {},
   "source": [
    "## Coefficient of Determination(R^2)"
   ]
  },
  {
   "cell_type": "code",
   "execution_count": 44,
   "metadata": {},
   "outputs": [
    {
     "name": "stdout",
     "output_type": "stream",
     "text": [
      "[0.10184390136583414, 0.010322389295635226, 0.0009907478686662543, 0.25961975383857017]\n"
     ]
    }
   ],
   "source": [
    "# Coefficient of Determination R^2 = rs*rs\n",
    "R2 = [x**2 for x in Rs]\n",
    "print(R2)"
   ]
  },
  {
   "cell_type": "markdown",
   "metadata": {},
   "source": [
    "#          Thank You!!!"
   ]
  },
  {
   "cell_type": "code",
   "execution_count": null,
   "metadata": {},
   "outputs": [],
   "source": []
  }
 ],
 "metadata": {
  "kernelspec": {
   "display_name": "Python 3",
   "language": "python",
   "name": "python3"
  },
  "language_info": {
   "codemirror_mode": {
    "name": "ipython",
    "version": 3
   },
   "file_extension": ".py",
   "mimetype": "text/x-python",
   "name": "python",
   "nbconvert_exporter": "python",
   "pygments_lexer": "ipython3",
   "version": "3.7.4"
  }
 },
 "nbformat": 4,
 "nbformat_minor": 2
}
